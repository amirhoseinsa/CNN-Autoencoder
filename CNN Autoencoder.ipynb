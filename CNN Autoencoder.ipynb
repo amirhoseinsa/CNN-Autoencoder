{
 "cells": [
  {
   "cell_type": "markdown",
   "metadata": {},
   "source": []
  },
  {
   "cell_type": "markdown",
   "metadata": {},
   "source": [
    "# HW3. Part 4. CNN Autoencoder "
   ]
  },
  {
   "cell_type": "markdown",
   "metadata": {},
   "source": [
    ""
   ]
  },
  {
   "cell_type": "code",
   "execution_count": 1,
   "metadata": {},
   "outputs": [],
   "source": [
    "# importing modules\n",
    "from utils import load_data\n",
    "from models import AutoEncoder\n",
    "import tensorflow as tf\n",
    "import numpy as np\n",
    "import matplotlib.pyplot as plt\n",
    "\n",
    "%matplotlib inline\n",
    "plt.rcParams['figure.figsize'] = (15.0, 15.0) # set default size of plots\n",
    "plt.rcParams['image.interpolation'] = 'nearest'\n",
    "plt.rcParams['image.cmap'] = 'gray'\n",
    "\n",
    "# The following two lines let us reload external modules in the notebook\n",
    "%load_ext autoreload\n",
    "%autoreload 2"
   ]
  },
  {
   "cell_type": "markdown",
   "metadata": {},
   "source": [
    "# Data Description\n",
    "\n",
    "On this notebook, we are going to work on farsi OCR dataset. As its name implies, it is like famous **MNIST** dataset but it consists of images of handwritten digits in farsi. Each instance of this dataset is 32 * 32 gray-scale image. It is totally composed of 80000 instances.\n",
    "Train, test sets are loaded using a method in `utils.py`. Training set includes 0.8 of the whole dataset and the rest is the test set."
   ]
  },
  {
   "cell_type": "markdown",
   "metadata": {},
   "source": [
    "# Problem Definition\n",
    "The problem we define for this dataset is to reconstruct original image after making some random rotations. We want to develop a model which recieves as input a rotated image and outputs its original without rotation. Meanwhile, a latent embedding is learned in the training process which its quality will be investigated later.\n",
    "\n",
    "First, data loader is called which returns original, rotated and labels for both training and test set. After that from each class on instance is plotted with its rotated counterpart."
   ]
  },
  {
   "cell_type": "code",
   "execution_count": 2,
   "metadata": {},
   "outputs": [
    {
     "name": "stdout",
     "output_type": "stream",
     "text": [
      "Loading the whole dataset...\n"
     ]
    }
   ],
   "source": [
    "X_train, X_train_rotated, Y_train, X_test, X_test_rotated, Y_test = load_data()"
   ]
  },
  {
   "cell_type": "code",
   "execution_count": 3,
   "metadata": {},
   "outputs": [
    {
     "data": {
      "image/png": "[encoded data removed]",
      "text/plain": [
       "<Figure size 432x288 with 20 Axes>"
      ]
     },
     "metadata": {
      "needs_background": "light"
     },
     "output_type": "display_data"
    }
   ],
   "source": [
    "# define a subplot of size 2 * number of classes\n",
    "num_class = 10\n",
    "fig, ax = plt.subplots(nrows=2, ncols=num_class)\n",
    "\n",
    "for i in range(num_class):\n",
    "    # gather original images of class i\n",
    "    class_i_images = X_train[Y_train == i]\n",
    "    \n",
    "    # gather rotated images of class i\n",
    "    class_i_rotated = X_train_rotated[Y_train == i]\n",
    "    \n",
    "    # make x and y axis invisible to have a better visualization\n",
    "    ax[0, i].get_xaxis().set_visible(False)\n",
    "    ax[0, i].get_yaxis().set_visible(False)\n",
    "    \n",
    "    # plotting original image of class i\n",
    "    ax[0, i].imshow(np.squeeze(class_i_images[0]))\n",
    "    \n",
    "    # plotting rotated image of class i\n",
    "    ax[1, i].get_xaxis().set_visible(False)\n",
    "    ax[1, i].get_yaxis().set_visible(False)\n",
    "    ax[1, i].imshow(np.squeeze(class_i_rotated[0]))"
   ]
  },
  {
   "cell_type": "markdown",
   "metadata": {},
   "source": [
    "# Setting of Flags\n",
    "\n",
    "A detailed description about using flags is presented in MLP notebook. So we skip any further explanation here."
   ]
  },
  {
   "cell_type": "code",
   "execution_count": 4,
   "metadata": {},
   "outputs": [],
   "source": [
    "flags = tf.app.flags\n",
    "FLAGS = flags.FLAGS\n",
    "flags.DEFINE_string('f', '', 'kernel')\n",
    "flags.DEFINE_float('learning_rate', 0.0005, 'Initial learning rate')\n",
    "flags.DEFINE_integer('width', 32, 'Width of images')\n",
    "flags.DEFINE_integer('height', 32, 'Height of images')\n",
    "flags.DEFINE_integer('num_channel', 1, 'Number of channels of images')\n",
    "flags.DEFINE_integer('batch_size', 10, 'Width of images')\n",
    "flags.DEFINE_integer('num_epochs', 5, 'Number of epochs of training')\n",
    "flags.DEFINE_integer('code_size', 256, 'Size of intermediate embedding')"
   ]
  },
  {
   "cell_type": "markdown",
   "metadata": {},
   "source": [
    "# Defining Initializers\n",
    "\n",
    "Zero and Noraml intializers are defined in `utils.py`."
   ]
  },
  {
   "cell_type": "markdown",
   "metadata": {},
   "source": [
    "# Defining Model\n",
    "\n",
    "There is a partly coded class called `AutoEncoder` in `models.py` which has 5 methods for you to complete. In order to develop you model you have to some layers defined in `layers.py` which also require to get completed. \n",
    "\n",
    "Please fill them based on their explanation and then run following cell which defines an AutoEncoder model with **ReLU** as activation function."
   ]
  },
  {
   "cell_type": "code",
   "execution_count": 5,
   "metadata": {},
   "outputs": [
    {
     "name": "stdout",
     "output_type": "stream",
     "text": [
      "(?, 32, 32, 8)\n",
      "(?, 16, 16, 8)\n",
      "(?, 16, 16, 16)\n",
      "(?, 8, 8, 16)\n",
      "(?, 8, 8, 32)\n",
      "(?, 4, 4, 32)\n",
      "(?, 512)\n",
      "(?, 256)\n",
      "(?, 512)\n",
      "(?, 4, 4, 32)\n",
      "(?, 8, 8, 16)\n",
      "(?, 16, 16, 8)\n",
      "(?, 32, 32, 1)\n"
     ]
    }
   ],
   "source": [
    "model = AutoEncoder()"
   ]
  },
  {
   "cell_type": "markdown",
   "metadata": {},
   "source": [
    "After building the computation graph of the model, training process should be started by running a session. The following cell runs a session and computes the total loss on each epoch as well.\n",
    "\n"
   ]
  },
  {
   "cell_type": "code",
   "execution_count": 6,
   "metadata": {},
   "outputs": [
    {
     "name": "stdout",
     "output_type": "stream",
     "text": [
      "Epoch 1 - Total loss: 2061.044390693307\n",
      "Epoch 2 - Total loss: 1378.0447331294417\n",
      "Epoch 3 - Total loss: 1179.0238782316446\n",
      "Epoch 4 - Total loss: 1054.182455651462\n",
      "Epoch 5 - Total loss: 979.9948934316635\n"
     ]
    }
   ],
   "source": [
    "# session\n",
    "sess = tf.Session()\n",
    "\n",
    "# initialize the graph\n",
    "sess.run(tf.global_variables_initializer())\n",
    "\n",
    "# running epochs\n",
    "for epoch in range(FLAGS.num_epochs):\n",
    "    total_loss = 0.0\n",
    "    for batch in range(0, X_train.shape[0], FLAGS.batch_size):\n",
    "        # creating batches\n",
    "        feed_dict = {\n",
    "            model.input_original_images: X_train[batch: batch + FLAGS.batch_size],\n",
    "            model.input_rotated_images: X_train_rotated[batch: batch + FLAGS.batch_size]\n",
    "        }\n",
    "        # feeding batches\n",
    "        _, v_loss = sess.run([model.opt, model.loss], feed_dict=feed_dict)\n",
    "        total_loss += v_loss\n",
    "    print('Epoch {} - Total loss: {}'.format(epoch + 1, total_loss))"
   ]
  },
  {
   "cell_type": "markdown",
   "metadata": {},
   "source": [
    "Let's plot the reconstruction result for first batch of test set and compare them with their originals ones as well as their rotated version.\n",
    "\n",
    "In the plot below, rows from 1 to 3 are depicting original, rotated and reconstructed images, respectively."
   ]
  },
  {
   "cell_type": "code",
   "execution_count": 7,
   "metadata": {},
   "outputs": [
    {
     "data": {
      "image/png": "[encoded data removed]",
      "text/plain": [
       "<Figure size 1296x216 with 30 Axes>"
      ]
     },
     "metadata": {
      "needs_background": "light"
     },
     "output_type": "display_data"
    }
   ],
   "source": [
    "# take a batch from test set\n",
    "feed_dict = {\n",
    "    model.input_original_images: X_test[:FLAGS.batch_size],\n",
    "    model.input_rotated_images: X_test_rotated[:FLAGS.batch_size]\n",
    "}\n",
    "\n",
    "# output reconstructed sample\n",
    "sample_images = sess.run(model.output_images, feed_dict=feed_dict)\n",
    "\n",
    "# rounding pixels of images\n",
    "sample_images[sample_images >= 0.5] = 1\n",
    "sample_images[sample_images < 0.5] = 0\n",
    "\n",
    "# define a subplot of size 3 * batch size\n",
    "fig, ax = plt.subplots(nrows=3, ncols=FLAGS.batch_size, figsize=(18, 3))\n",
    "for i in range(FLAGS.batch_size):\n",
    "    # plot original test image\n",
    "    ax[0, i].get_xaxis().set_visible(False)\n",
    "    ax[0, i].get_yaxis().set_visible(False)\n",
    "    ax[0, i].imshow(np.squeeze(X_test[i]))\n",
    "    \n",
    "    # plot rotated test image\n",
    "    ax[1, i].get_xaxis().set_visible(False)\n",
    "    ax[1, i].get_yaxis().set_visible(False)\n",
    "    ax[1, i].imshow(np.squeeze(X_test_rotated[i]))\n",
    "    \n",
    "    # plot reconstructed image\n",
    "    ax[2, i].get_xaxis().set_visible(False)\n",
    "    ax[2, i].get_yaxis().set_visible(False)\n",
    "    ax[2, i].imshow(np.squeeze(sample_images[i]))"
   ]
  },
  {
   "cell_type": "markdown",
   "metadata": {},
   "source": [
    "As mentioned earlier, let's visualize the embedding produced in the middle of network. By doing so, we can discover how high is the quality of embedding encoded for images.\n",
    "\n",
    "One way to visualize is to use a technique called t-SNE which is basically a dimensionality reduction algorithm. Since the dimension of the latent code is high, it is necessary to use a dimensionality reduction algorithm like t-SNE.\n",
    "\n",
    "There are two options available here to plot t-SNE diagram:\n",
    "1. Using class of `TSNE` defined in scikit-learn libray.\n",
    "2. Tensorboard provides a utility by which embeddings can be visualized."
   ]
  },
  {
   "cell_type": "markdown",
   "metadata": {},
   "source": [
    "# t-SNE with scikit-learn\n",
    "\n",
    "First, codes generated by the network for some training samples are evaluated."
   ]
  },
  {
   "cell_type": "code",
   "execution_count": 8,
   "metadata": {},
   "outputs": [],
   "source": [
    "# setting number of samples\n",
    "num_sample = 1000\n",
    "\n",
    "# prepare test data samples\n",
    "feed_dict = {\n",
    "    model.input_original_images: X_train[:num_sample],\n",
    "    model.input_rotated_images: X_train[:num_sample]\n",
    "}\n",
    "labels = Y_train[:num_sample].astype(int)\n",
    "\n",
    "# evaluate embedding on samples\n",
    "embeddings = sess.run(model.code_layer, feed_dict=feed_dict)"
   ]
  },
  {
   "cell_type": "markdown",
   "metadata": {},
   "source": [
    "A t-SNE class is imported and an object of it constructed. Number of dimensions of new space after reduction is given to constructor. This object has a `fit_transform` method which applies dimension reduction over the input data.\n",
    "\n",
    "In order to have distinguishable points, we set specific color for each 10 classes of digits as below."
   ]
  },
  {
   "cell_type": "code",
   "execution_count": 9,
   "metadata": {},
   "outputs": [],
   "source": [
    "from sklearn.manifold import TSNE"
   ]
  },
  {
   "cell_type": "code",
   "execution_count": 10,
   "metadata": {},
   "outputs": [
    {
     "data": {
      "text/plain": [
       "<matplotlib.legend.Legend at 0x144dbb24e10>"
      ]
     },
     "execution_count": 10,
     "metadata": {},
     "output_type": "execute_result"
    },
    {
     "data": {
      "image/png": "[encoded data removed]",
      "text/plain": [
       "<Figure size 432x288 with 1 Axes>"
      ]
     },
     "metadata": {
      "needs_background": "light"
     },
     "output_type": "display_data"
    }
   ],
   "source": [
    "# define TSNE and apply it to the input embedding\n",
    "tsne = TSNE(n_components=2)\n",
    "reduced_embeddings = tsne.fit_transform(embeddings)\n",
    "\n",
    "# set colors and labels\n",
    "color_names = ['blue', 'green', 'red', 'orange', 'yellow', 'silver', 'lime', 'black', 'cyan', 'magenta']\n",
    "str_labels = [str(i) for i in range(10)]\n",
    "\n",
    "# list of scatter plot of embedding for each class\n",
    "num_class = 10\n",
    "plts = []\n",
    "for i in range(num_class):\n",
    "    plts.append(plt.scatter(reduced_embeddings[labels == i, 0],\n",
    "                            reduced_embeddings[labels == i, 1]\n",
    "                            , marker='.', c=color_names[i]))\n",
    "\n",
    "# set legend\n",
    "plt.legend(plts, str_labels, \n",
    "           scatterpoints=1, loc='best', \n",
    "           ncol=2, fontsize=8)"
   ]
  },
  {
   "cell_type": "markdown",
   "metadata": {},
   "source": [
    "If you have done everything right, then you have to observe how clusters of different classes are well-separated."
   ]
  },
  {
   "cell_type": "markdown",
   "metadata": {},
   "source": [
    "# t-SNE with Tensorboard\n",
    "\n",
    "Here, we use tensorboard to visualize latent codes.\n",
    "\n",
    "Generally, we define a `tf.Variable` and assign its value to `code_layer` of our model. Then an object of `ProjectorConfig` is constructed to which a new embedding will be added. This is done by setting the tensor name and the path from which metadata should be taken from. Here metadata corresponds to class labels. Metadata `.csv` file is also creted by `write_metadata` function defined below.\n",
    "\n",
    "Finally a writer is used for saving the embedding and the model is saved by `tf.train.Saver()` to have proper functioning."
   ]
  },
  {
   "cell_type": "code",
   "execution_count": 11,
   "metadata": {},
   "outputs": [],
   "source": [
    "from tensorflow.contrib.tensorboard.plugins import projector"
   ]
  },
  {
   "cell_type": "code",
   "execution_count": 12,
   "metadata": {},
   "outputs": [],
   "source": [
    "import os\n",
    "\n",
    "# metadata writer\n",
    "def write_metadata(labels, path):\n",
    "    with open(os.path.join(path, 'meta_data_labels.csv'), 'w') as csv_file:\n",
    "        for label in labels:\n",
    "            csv_file.write(str(label))\n",
    "            csv_file.write('\\n')"
   ]
  },
  {
   "cell_type": "code",
   "execution_count": 13,
   "metadata": {},
   "outputs": [],
   "source": [
    "import datetime\n",
    "\n",
    "# set path based on time in logs folder\n",
    "now = datetime.datetime.now()\n",
    "path = './logs/' + str(now.hour) + \"_\" + str(now.minute) + \"_\" + str(now.second) + \"/\"\n",
    "writer = tf.summary.FileWriter(logdir=path, graph=sess.graph)"
   ]
  },
  {
   "cell_type": "code",
   "execution_count": 15,
   "metadata": {},
   "outputs": [
    {
     "data": {
      "text/plain": [
       "'./logs/11_8_24/embedding_layer.ckpt-1'"
      ]
     },
     "execution_count": 15,
     "metadata": {},
     "output_type": "execute_result"
    }
   ],
   "source": [
    "# shape of sample tensors\n",
    "tensor_shape = (num_sample, model.code_layer.get_shape()[1].value)\n",
    "embedding_var = tf.Variable(tf.zeros(shape=tensor_shape), name='embedding')\n",
    "\n",
    "# assiging available code_layer in graph to new variable\n",
    "embedding_assign = embedding_var.assign(model.code_layer)\n",
    "\n",
    "# define config\n",
    "config = projector.ProjectorConfig()\n",
    "embedding = config.embeddings.add()  \n",
    "embedding.tensor_name = embedding_var.name  # set tensor name\n",
    "embedding.metadata_path = 'meta_data_labels.csv'  # set metadata path\n",
    "write_metadata(labels, path)  # fill file of metadata\n",
    "projector.visualize_embeddings(writer, config)\n",
    "\n",
    "# save embeddings\n",
    "sess.run(embedding_assign, feed_dict)\n",
    "saver = tf.train.Saver([embedding_var])\n",
    "saver.save(sess, os.path.join(path, 'embedding_layer.ckpt'), 1)"
   ]
  },
  {
   "cell_type": "markdown",
   "metadata": {},
   "source": [
    "After running the above code you have to run tensorboard on the path specified in the code.\n",
    "\n"
   ]
  },
  {
   "cell_type": "code",
   "execution_count": 16,
   "metadata": {},
   "outputs": [],
   "source": [
    "sess.close()"
   ]
  },
  {
   "cell_type": "markdown",
   "metadata": {},
   "source": [
    "### **Note**: \n",
    "\n",
    "For this notebook please just include the tensorboard t-SNE visualization of encoded images beside your uploaded files.\n",
    "To do so, you can take screenshot and save it as an image with name `tsne_visual`."
   ]
  }
 ],
 "metadata": {
  "kernelspec": {
   "display_name": "Python 3",
   "language": "python",
   "name": "python3"
  },
  "language_info": {
   "codemirror_mode": {
    "name": "ipython",
    "version": 3.0
   },
   "file_extension": ".py",
   "mimetype": "text/x-python",
   "name": "python",
   "nbconvert_exporter": "python",
   "pygments_lexer": "ipython3",
   "version": "3.5.2"
  }
 },
 "nbformat": 4,
 "nbformat_minor": 0
}